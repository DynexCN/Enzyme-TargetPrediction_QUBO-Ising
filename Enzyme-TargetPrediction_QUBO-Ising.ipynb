{
 "cells": [
  {
   "cell_type": "markdown",
   "id": "228e129b",
   "metadata": {},
   "source": [
    "# Enzyme-Target Prediction"
   ]
  },
  {
   "cell_type": "markdown",
   "id": "2d13e54a",
   "metadata": {},
   "source": [
    "This notebook is a demonstration for predicting potential interactions between enzymes and target molecules. This approach leverages the principles of quantum mechanics to solve optimization problems by formulating them as QUBO models"
   ]
  },
  {
   "cell_type": "markdown",
   "id": "e2e44ecf",
   "metadata": {},
   "source": [
    "**Idea** is provided by: **Andreas Rossos** aka [@zmokuspokus in Discord]"
   ]
  },
  {
   "cell_type": "markdown",
   "id": "73d0e3bd",
   "metadata": {},
   "source": [
    "**Dataset** is provided by: **MetXBioDB Metabolite Biotransformations**"
   ]
  },
  {
   "cell_type": "markdown",
   "id": "8e789eb4-af58-45e0-9206-c02e753554c5",
   "metadata": {},
   "source": [
    "**Code** is provided by: **Samer Rahmeh** aka [@samgr55 in Discord]"
   ]
  },
  {
   "cell_type": "markdown",
   "id": "3e53fb6b",
   "metadata": {},
   "source": [
    "Enzyme-Target Prediction - QUBO/Ising ---- Repo is available here : https://github.com/samgr55/Enzyme-TargetPrediction_QUBO-Ising"
   ]
  },
  {
   "cell_type": "markdown",
   "id": "4788011e",
   "metadata": {},
   "source": [
    "# **Importing Libraries**"
   ]
  },
  {
   "cell_type": "code",
   "execution_count": 14,
   "id": "01451575",
   "metadata": {
    "ExecuteTime": {
     "end_time": "2023-11-01T08:09:59.050600200Z",
     "start_time": "2023-11-01T08:09:58.954321100Z"
    }
   },
   "outputs": [],
   "source": [
    "import dimod\n",
    "from dimod import BinaryQuadraticModel, SimulatedAnnealingSampler\n",
    "import pandas as pd\n",
    "from collections import defaultdict, Counter\n",
    "from rdkit import Chem, DataStructs\n",
    "from rdkit.Chem import AllChem ,Descriptors, Draw\n",
    "import matplotlib.pyplot as plt\n",
    "import numpy as np\n",
    "from PIL import Image\n",
    "#import dynex"
   ]
  },
  {
   "cell_type": "markdown",
   "id": "f950e5c1",
   "metadata": {},
   "source": [
    "# **Loading Datasets**"
   ]
  },
  {
   "cell_type": "code",
   "execution_count": 15,
   "id": "20565707",
   "metadata": {
    "ExecuteTime": {
     "end_time": "2023-11-01T08:09:59.098480Z",
     "start_time": "2023-11-01T08:09:58.958082100Z"
    }
   },
   "outputs": [],
   "source": [
    "df = pd.read_csv('Transformations.csv', encoding='latin1', nrows=1000) \n",
    "df1 = pd.read_csv('substances.csv', encoding='latin1', nrows=1000) \n",
    "df2 = pd.read_csv('metabolicdb.csv', encoding='latin1', nrows=1000) "
   ]
  },
  {
   "cell_type": "markdown",
   "id": "e9d097ad",
   "metadata": {},
   "source": [
    "### Check the datatypes"
   ]
  },
  {
   "cell_type": "code",
   "execution_count": 16,
   "id": "416f294d",
   "metadata": {
    "ExecuteTime": {
     "end_time": "2023-11-01T08:09:59.101411400Z",
     "start_time": "2023-11-01T08:09:58.985427200Z"
    }
   },
   "outputs": [
    {
     "name": "stdout",
     "output_type": "stream",
     "text": [
      "Data types in df:\n",
      "Predecessor_CID     int64\n",
      "Successor_CID       int64\n",
      "Enzyme             object\n",
      "dtype: object\n",
      "\n",
      "Data types in df1:\n",
      "InChI          object\n",
      "PubChem_CID     int64\n",
      "SMILES         object\n",
      "dtype: object\n",
      "\n",
      "Data types in df2:\n",
      "substrate_cid    float64\n",
      "prod_cid          object\n",
      "enzyme            object\n",
      "dtype: object\n"
     ]
    }
   ],
   "source": [
    "print(\"Data types in df:\")\n",
    "print(df[['Predecessor_CID', 'Successor_CID', 'Enzyme']].dtypes)\n",
    "print(\"\\nData types in df1:\")\n",
    "print(df1[['InChI', 'PubChem_CID', 'SMILES']].dtypes)\n",
    "print(\"\\nData types in df2:\")\n",
    "print(df2[['substrate_cid', 'prod_cid', 'enzyme']].dtypes)"
   ]
  },
  {
   "cell_type": "markdown",
   "id": "ae7d32d7",
   "metadata": {},
   "source": [
    "### Merging Datasets"
   ]
  },
  {
   "cell_type": "code",
   "execution_count": 17,
   "id": "5540b730",
   "metadata": {
    "ExecuteTime": {
     "end_time": "2023-11-01T08:09:59.117562100Z",
     "start_time": "2023-11-01T08:09:58.992899900Z"
    }
   },
   "outputs": [],
   "source": [
    "df['Predecessor_Name'] = df['Predecessor_Name'].astype(str)\n",
    "df['Successor_CID'] = df['Successor_CID'].astype(float)\n",
    "df1['SubstanceName'] = df1['SubstanceName'].astype(str)\n",
    "df1['PubChem_CID'] = df1['PubChem_CID'].astype(float)\n",
    "df2['substrate_cid'] = df2['substrate_cid'].astype(str)\n",
    "df2['prod_cid'] = df2['prod_cid'].astype(str)\n",
    "\n",
    "# First merge\n",
    "mergedDf1 = pd.merge(df, df1, \n",
    "                      left_on=['Successor_CID'], \n",
    "                      right_on=['PubChem_CID'], \n",
    "                      how='inner')\n",
    "\n",
    "# Second merge\n",
    "mergedDf = pd.merge(mergedDf1, df2, \n",
    "                     left_on=['Enzyme'], \n",
    "                     right_on=['enzyme'], \n",
    "                     how='inner')"
   ]
  },
  {
   "cell_type": "markdown",
   "id": "6a80e565",
   "metadata": {},
   "source": [
    "# Initialization:"
   ]
  },
  {
   "cell_type": "markdown",
   "id": "f8ff522d",
   "metadata": {},
   "source": [
    "- Preprocessing dataset \n",
    "- Calculate Enzyme Frequencies\n",
    "- Set the threshold for **high frequency enzymes**\n",
    "- Group by **Transformation** [Type] and Enzyme, then count the occurrences\n",
    "- Filter transformation types specific to **single enzymes**"
   ]
  },
  {
   "cell_type": "code",
   "execution_count": 18,
   "id": "ba84496d",
   "metadata": {
    "ExecuteTime": {
     "end_time": "2023-11-01T08:09:59.133197800Z",
     "start_time": "2023-11-01T08:09:59.012936900Z"
    }
   },
   "outputs": [
    {
     "name": "stdout",
     "output_type": "stream",
     "text": [
      "[INFO]: PHASE-1 DONE !\n",
      "[INFO]: PHASE-2 DONE !\n",
      "[INFO]: PHASE-3 DONE !\n",
      "[INFO]: PHASE-4 DONE !\n",
      "CPU times: total: 93.8 ms\n",
      "Wall time: 98.2 ms\n"
     ]
    }
   ],
   "source": [
    "%%time\n",
    "enzymeCounter = Counter()\n",
    "allPossiblePairs = set()\n",
    "allPossibleEnzymes = set()\n",
    "def updateSetsAndCounter(row):\n",
    "    enzymes = row['Enzyme'].split('; ')\n",
    "    enzymeCounter.update(enzymes)\n",
    "    allPossiblePairs.add((row['Predecessor_CID'], row['Successor_CID']))\n",
    "    allPossibleEnzymes.update(enzymes)\n",
    "mergedDf.apply(updateSetsAndCounter, axis=1)\n",
    "print(\"[INFO]: PHASE-1 DONE !\")\n",
    "\n",
    "enzymeFrequenciesDf = pd.DataFrame.from_dict(enzymeCounter, orient='index', columns=['Frequency']).reset_index()\n",
    "enzymeFrequenciesDf.rename(columns={'index': 'Enzyme'}, inplace=True)\n",
    "enzymeFrequenciesDf.sort_values(by='Frequency', ascending=False, inplace=True)\n",
    "print(\"[INFO]: PHASE-2 DONE !\")\n",
    "\n",
    "highFrequencyEnzymes = set(enzymeFrequenciesDf[enzymeFrequenciesDf['Frequency'] >= 10]['Enzyme'])\n",
    "print(\"[INFO]: PHASE-3 DONE !\")\n",
    "\n",
    "transformationEnzymeGroups = mergedDf.groupby(['Transformation', 'Enzyme']).size().reset_index(name='Counts')\n",
    "enzymeSpecificTransformationsSet = set(\n",
    "    transformationEnzymeGroups.groupby('Transformation')\n",
    "    .filter(lambda x: len(x) == 1)['Transformation'])\n",
    "print(\"[INFO]: PHASE-4 DONE !\")"
   ]
  },
  {
   "cell_type": "markdown",
   "id": "6d8ecd82",
   "metadata": {},
   "source": [
    "### Calculating weights based **high frequency enzymes** / **Transformations** / **Biosystem [Human]**"
   ]
  },
  {
   "cell_type": "code",
   "execution_count": 19,
   "id": "fde647f9",
   "metadata": {
    "scrolled": true,
    "ExecuteTime": {
     "end_time": "2023-11-01T08:10:02.295010600Z",
     "start_time": "2023-11-01T08:09:59.118538900Z"
    }
   },
   "outputs": [
    {
     "name": "stdout",
     "output_type": "stream",
     "text": [
      "[INFO]: PHASE-5 DONE !\n",
      "[INFO]: PHASE-6 DONE !\n"
     ]
    },
    {
     "ename": "KeyboardInterrupt",
     "evalue": "",
     "output_type": "error",
     "traceback": [
      "\u001B[1;31m---------------------------------------------------------------------------\u001B[0m",
      "\u001B[1;31mKeyboardInterrupt\u001B[0m                         Traceback (most recent call last)",
      "File \u001B[1;32m<timed exec>:46\u001B[0m\n",
      "File \u001B[1;32mP:\\Python\\Lib\\site-packages\\pandas\\core\\frame.py:10034\u001B[0m, in \u001B[0;36mDataFrame.apply\u001B[1;34m(self, func, axis, raw, result_type, args, by_row, **kwargs)\u001B[0m\n\u001B[0;32m  10022\u001B[0m \u001B[38;5;28;01mfrom\u001B[39;00m \u001B[38;5;21;01mpandas\u001B[39;00m\u001B[38;5;21;01m.\u001B[39;00m\u001B[38;5;21;01mcore\u001B[39;00m\u001B[38;5;21;01m.\u001B[39;00m\u001B[38;5;21;01mapply\u001B[39;00m \u001B[38;5;28;01mimport\u001B[39;00m frame_apply\n\u001B[0;32m  10024\u001B[0m op \u001B[38;5;241m=\u001B[39m frame_apply(\n\u001B[0;32m  10025\u001B[0m     \u001B[38;5;28mself\u001B[39m,\n\u001B[0;32m  10026\u001B[0m     func\u001B[38;5;241m=\u001B[39mfunc,\n\u001B[1;32m   (...)\u001B[0m\n\u001B[0;32m  10032\u001B[0m     kwargs\u001B[38;5;241m=\u001B[39mkwargs,\n\u001B[0;32m  10033\u001B[0m )\n\u001B[1;32m> 10034\u001B[0m \u001B[38;5;28;01mreturn\u001B[39;00m \u001B[43mop\u001B[49m\u001B[38;5;241;43m.\u001B[39;49m\u001B[43mapply\u001B[49m\u001B[43m(\u001B[49m\u001B[43m)\u001B[49m\u001B[38;5;241m.\u001B[39m__finalize__(\u001B[38;5;28mself\u001B[39m, method\u001B[38;5;241m=\u001B[39m\u001B[38;5;124m\"\u001B[39m\u001B[38;5;124mapply\u001B[39m\u001B[38;5;124m\"\u001B[39m)\n",
      "File \u001B[1;32mP:\\Python\\Lib\\site-packages\\pandas\\core\\apply.py:837\u001B[0m, in \u001B[0;36mFrameApply.apply\u001B[1;34m(self)\u001B[0m\n\u001B[0;32m    834\u001B[0m \u001B[38;5;28;01melif\u001B[39;00m \u001B[38;5;28mself\u001B[39m\u001B[38;5;241m.\u001B[39mraw:\n\u001B[0;32m    835\u001B[0m     \u001B[38;5;28;01mreturn\u001B[39;00m \u001B[38;5;28mself\u001B[39m\u001B[38;5;241m.\u001B[39mapply_raw()\n\u001B[1;32m--> 837\u001B[0m \u001B[38;5;28;01mreturn\u001B[39;00m \u001B[38;5;28;43mself\u001B[39;49m\u001B[38;5;241;43m.\u001B[39;49m\u001B[43mapply_standard\u001B[49m\u001B[43m(\u001B[49m\u001B[43m)\u001B[49m\n",
      "File \u001B[1;32mP:\\Python\\Lib\\site-packages\\pandas\\core\\apply.py:963\u001B[0m, in \u001B[0;36mFrameApply.apply_standard\u001B[1;34m(self)\u001B[0m\n\u001B[0;32m    962\u001B[0m \u001B[38;5;28;01mdef\u001B[39;00m \u001B[38;5;21mapply_standard\u001B[39m(\u001B[38;5;28mself\u001B[39m):\n\u001B[1;32m--> 963\u001B[0m     results, res_index \u001B[38;5;241m=\u001B[39m \u001B[38;5;28;43mself\u001B[39;49m\u001B[38;5;241;43m.\u001B[39;49m\u001B[43mapply_series_generator\u001B[49m\u001B[43m(\u001B[49m\u001B[43m)\u001B[49m\n\u001B[0;32m    965\u001B[0m     \u001B[38;5;66;03m# wrap results\u001B[39;00m\n\u001B[0;32m    966\u001B[0m     \u001B[38;5;28;01mreturn\u001B[39;00m \u001B[38;5;28mself\u001B[39m\u001B[38;5;241m.\u001B[39mwrap_results(results, res_index)\n",
      "File \u001B[1;32mP:\\Python\\Lib\\site-packages\\pandas\\core\\apply.py:979\u001B[0m, in \u001B[0;36mFrameApply.apply_series_generator\u001B[1;34m(self)\u001B[0m\n\u001B[0;32m    976\u001B[0m \u001B[38;5;28;01mwith\u001B[39;00m option_context(\u001B[38;5;124m\"\u001B[39m\u001B[38;5;124mmode.chained_assignment\u001B[39m\u001B[38;5;124m\"\u001B[39m, \u001B[38;5;28;01mNone\u001B[39;00m):\n\u001B[0;32m    977\u001B[0m     \u001B[38;5;28;01mfor\u001B[39;00m i, v \u001B[38;5;129;01min\u001B[39;00m \u001B[38;5;28menumerate\u001B[39m(series_gen):\n\u001B[0;32m    978\u001B[0m         \u001B[38;5;66;03m# ignore SettingWithCopy here in case the user mutates\u001B[39;00m\n\u001B[1;32m--> 979\u001B[0m         results[i] \u001B[38;5;241m=\u001B[39m \u001B[38;5;28;43mself\u001B[39;49m\u001B[38;5;241;43m.\u001B[39;49m\u001B[43mfunc\u001B[49m\u001B[43m(\u001B[49m\u001B[43mv\u001B[49m\u001B[43m,\u001B[49m\u001B[43m \u001B[49m\u001B[38;5;241;43m*\u001B[39;49m\u001B[38;5;28;43mself\u001B[39;49m\u001B[38;5;241;43m.\u001B[39;49m\u001B[43margs\u001B[49m\u001B[43m,\u001B[49m\u001B[43m \u001B[49m\u001B[38;5;241;43m*\u001B[39;49m\u001B[38;5;241;43m*\u001B[39;49m\u001B[38;5;28;43mself\u001B[39;49m\u001B[38;5;241;43m.\u001B[39;49m\u001B[43mkwargs\u001B[49m\u001B[43m)\u001B[49m\n\u001B[0;32m    980\u001B[0m         \u001B[38;5;28;01mif\u001B[39;00m \u001B[38;5;28misinstance\u001B[39m(results[i], ABCSeries):\n\u001B[0;32m    981\u001B[0m             \u001B[38;5;66;03m# If we have a view on v, we need to make a copy because\u001B[39;00m\n\u001B[0;32m    982\u001B[0m             \u001B[38;5;66;03m#  series_generator will swap out the underlying data\u001B[39;00m\n\u001B[0;32m    983\u001B[0m             results[i] \u001B[38;5;241m=\u001B[39m results[i]\u001B[38;5;241m.\u001B[39mcopy(deep\u001B[38;5;241m=\u001B[39m\u001B[38;5;28;01mFalse\u001B[39;00m)\n",
      "File \u001B[1;32m<timed exec>:34\u001B[0m, in \u001B[0;36mupdateQ\u001B[1;34m(row)\u001B[0m\n",
      "File \u001B[1;32m<timed exec>:17\u001B[0m, in \u001B[0;36mcalculateChemicalStructureWeight\u001B[1;34m(inchi, smiles)\u001B[0m\n",
      "\u001B[1;31mKeyboardInterrupt\u001B[0m: "
     ]
    }
   ],
   "source": [
    "%%time\n",
    "def calculateWeights(row):\n",
    "    rowBasedWeight = 10 * (row['Enzyme'] in highFrequencyEnzymes)\n",
    "    rowBasedWeight += 5 * (row['Transformation'] in enzymeSpecificTransformationsSet)\n",
    "    rowBasedWeight += 3 * (row['Biosystem'] == 'Human')\n",
    "    return rowBasedWeight\n",
    "mergedDf['Row_Based_Weight'] = mergedDf.apply(calculateWeights, axis=1)\n",
    "print(\"[INFO]: PHASE-5 DONE !\")\n",
    "\n",
    "def calculateChemicalStructureWeight(inchi, smiles):\n",
    "    weight = 0\n",
    "    molInchi = Chem.MolFromInchi(inchi)\n",
    "    molSmiles = Chem.MolFromSmiles(smiles)\n",
    "    if molInchi and molSmiles:\n",
    "        mwInchi = Descriptors.MolWt(molInchi)\n",
    "        mwSmiles = Descriptors.MolWt(molSmiles)\n",
    "        fpInchi = Chem.RDKFingerprint(molInchi)\n",
    "        fpSmiles = Chem.RDKFingerprint(molSmiles)\n",
    "        tanimotoSimilarity = DataStructs.FingerprintSimilarity(fpInchi, fpSmiles)\n",
    "        weight = mwInchi * tanimotoSimilarity + mwSmiles\n",
    "    return weight\n",
    "print(\"[INFO]: PHASE-6 DONE !\")\n",
    "\n",
    "\n",
    "Q = defaultdict(int)\n",
    "N = 5 # at least have 5 pairs that catalyze with X enzyme\n",
    "\n",
    "# Updating Q Model (Dictionary) [Q: QUBO Model]\n",
    "def updateQ(row):\n",
    "    try:\n",
    "        enzymes = row['Enzyme'].split('; ')\n",
    "        target = row['Successor_CID']\n",
    "        predecessor = row['Predecessor_CID']\n",
    "        weight1 = row['Row_Based_Weight']\n",
    "        weight2 = calculateChemicalStructureWeight(row['InChI'], row['SMILES'])\n",
    "        totalWeight = weight1 + weight2\n",
    "        for enzyme in enzymes:\n",
    "            enzyme = enzyme.strip()\n",
    "            pair = f\"{enzyme}_{predecessor}_{target}\"\n",
    "            Q[(pair, pair)] += -totalWeight\n",
    "            for otherPredecessor, otherTarget in allPossiblePairs:\n",
    "                otherPair = f\"{enzyme}_{otherPredecessor}_{otherTarget}\"\n",
    "                Q[(pair, otherPair)] += 2 * N\n",
    "    except Exception as e:\n",
    "        print(f\"An error occurred finding in chemical informatics: {e}\")\n",
    "        print(f\"Skipping row: {row}\")\n",
    "mergedDf.apply(updateQ, axis=1)\n",
    "print(\"[INFO]: PHASE-7 DONE !\")"
   ]
  },
  {
   "cell_type": "markdown",
   "id": "7a2709e5",
   "metadata": {},
   "source": [
    "## Initializing Constrains + Adjacencies for Q model"
   ]
  },
  {
   "cell_type": "code",
   "execution_count": 20,
   "id": "b2ab2409",
   "metadata": {
    "ExecuteTime": {
     "end_time": "2023-11-01T08:10:02.781847300Z",
     "start_time": "2023-11-01T08:10:02.292079300Z"
    }
   },
   "outputs": [
    {
     "name": "stdout",
     "output_type": "stream",
     "text": [
      "[INFO]: PHASE-8 DONE !\n",
      "[INFO]: PHASE-9 DONE !\n",
      "[INFO]: PHASE-10 DONE !\n"
     ]
    }
   ],
   "source": [
    "def updatePairConstraint(predecessor, target):\n",
    "    pairsForThisReaction = [\n",
    "        f\"{enzyme.strip()}_{predecessor}_{target}\"\n",
    "        for enzyme in allPossibleEnzymes\n",
    "    ]\n",
    "    for i, pair1 in enumerate(pairsForThisReaction):\n",
    "        for j, pair2 in enumerate(pairsForThisReaction):\n",
    "            if i != j:\n",
    "                Q[(pair1, pair2)] -= 2  # EXPERIMENTAL::Encourage at least one enzyme to catalyze each (predecessor, target)\n",
    "print(\"[INFO]: PHASE-8 DONE !\")\n",
    "\n",
    "for predecessor, target in allPossiblePairs:\n",
    "    updatePairConstraint(predecessor, target)\n",
    "pairToIndex = {pair: i for i, pair in enumerate(allPossiblePairs)}\n",
    "enzymeToIndex = {enzyme: j for j, enzyme in enumerate(allPossibleEnzymes)}\n",
    "adjacencyMatrix = np.zeros((len(allPossiblePairs), len(allPossibleEnzymes)))\n",
    "def updateAdjacencyMatrix(pair, i):\n",
    "    for enzyme, j in enzymeToIndex.items():\n",
    "        pairStr = f\"{enzyme.strip()}_{pair[0]}_{pair[1]}\"\n",
    "        if (pairStr, pairStr) in Q:\n",
    "            adjacencyMatrix[i, j] = 1            \n",
    "print(\"[INFO]: PHASE-9 DONE !\")\n",
    "\n",
    "for pair, i in pairToIndex.items():\n",
    "    updateAdjacencyMatrix(pair, i)\n",
    "def refineConstraints(adjacencyMatrix):\n",
    "    stronglyConnectedEnzymes = np.sum(adjacencyMatrix, axis=0) > 1\n",
    "    stronglyConnectedPairs = np.sum(adjacencyMatrix, axis=1) > 1    \n",
    "    for pair, i in pairToIndex.items():\n",
    "        for enzyme, j in enzymeToIndex.items():\n",
    "            pairStr = f\"{enzyme.strip()}_{pair[0]}_{pair[1]}\"\n",
    "            qVal = Q.get((pairStr, pairStr), 0)\n",
    "            if qVal:\n",
    "                if stronglyConnectedEnzymes[j]:\n",
    "                    Q[(pairStr, pairStr)] = qVal * 1.5  # Increase by 50%\n",
    "                if stronglyConnectedPairs[i]:\n",
    "                    Q[(pairStr, pairStr)] = qVal * 1.5  # Increase by 50%\n",
    "\n",
    "refineConstraints(adjacencyMatrix)\n",
    "print(\"[INFO]: PHASE-10 DONE !\")"
   ]
  },
  {
   "cell_type": "markdown",
   "id": "1742a7b7",
   "metadata": {},
   "source": [
    "# Initialize QUBO [BQM] using Dimod"
   ]
  },
  {
   "cell_type": "code",
   "execution_count": 21,
   "id": "0129561d",
   "metadata": {
    "ExecuteTime": {
     "end_time": "2023-11-01T08:10:03.481667200Z",
     "start_time": "2023-11-01T08:10:02.781847300Z"
    }
   },
   "outputs": [
    {
     "name": "stderr",
     "output_type": "stream",
     "text": [
      "P:\\Python\\Lib\\site-packages\\dimod\\binary\\binary_quadratic_model.py:490: SyntaxWarning: invalid escape sequence '\\o'\n",
      "  \"\"\"Binary-valued version of the binary quadratic model.\n",
      "P:\\Python\\Lib\\site-packages\\dimod\\binary\\binary_quadratic_model.py:657: SyntaxWarning: invalid escape sequence '\\s'\n",
      "  \"\"\"Add a linear constraint as a quadratic objective.\n",
      "P:\\Python\\Lib\\site-packages\\dimod\\binary\\binary_quadratic_model.py:714: SyntaxWarning: invalid escape sequence '\\s'\n",
      "  \"\"\"Add a linear inequality constraint as a quadratic objective.\n",
      "P:\\Python\\Lib\\site-packages\\dimod\\binary\\binary_quadratic_model.py:2615: SyntaxWarning: invalid escape sequence '\\{'\n",
      "  \"\"\"Return a binary quadratic model with a single binary variable.\n",
      "P:\\Python\\Lib\\site-packages\\dimod\\binary\\binary_quadratic_model.py:2641: SyntaxWarning: invalid escape sequence '\\o'\n",
      "  \"\"\"Yield binary quadratic models, each with a single binary variable.\n",
      "P:\\Python\\Lib\\site-packages\\dimod\\binary\\binary_quadratic_model.py:2677: SyntaxWarning: invalid escape sequence '\\ '\n",
      "  \"\"\"Return a NumPy array of binary quadratic models, each with a\n",
      "P:\\Python\\Lib\\site-packages\\dimod\\binary\\binary_quadratic_model.py:2716: SyntaxWarning: invalid escape sequence '\\{'\n",
      "  \"\"\"Return a binary quadratic model with a single spin variable.\n",
      "P:\\Python\\Lib\\site-packages\\dimod\\binary\\binary_quadratic_model.py:2779: SyntaxWarning: invalid escape sequence '\\ '\n",
      "  \"\"\"Return a NumPy array of binary quadratic models, each with a\n"
     ]
    },
    {
     "ename": "KeyboardInterrupt",
     "evalue": "",
     "output_type": "error",
     "traceback": [
      "\u001B[1;31m---------------------------------------------------------------------------\u001B[0m",
      "\u001B[1;31mKeyboardInterrupt\u001B[0m                         Traceback (most recent call last)",
      "File \u001B[1;32m<timed exec>:1\u001B[0m\n",
      "File \u001B[1;32mP:\\Python\\Lib\\site-packages\\dimod\\binary\\binary_quadratic_model.py:1454\u001B[0m, in \u001B[0;36mBinaryQuadraticModel.from_qubo\u001B[1;34m(cls, Q, offset)\u001B[0m\n\u001B[0;32m   1437\u001B[0m \u001B[38;5;129m@classmethod\u001B[39m\n\u001B[0;32m   1438\u001B[0m \u001B[38;5;28;01mdef\u001B[39;00m \u001B[38;5;21mfrom_qubo\u001B[39m(\u001B[38;5;28mcls\u001B[39m, Q: Mapping, offset: \u001B[38;5;28mfloat\u001B[39m \u001B[38;5;241m=\u001B[39m \u001B[38;5;241m0\u001B[39m):\n\u001B[0;32m   1439\u001B[0m \u001B[38;5;250m    \u001B[39m\u001B[38;5;124;03m\"\"\"Create a binary quadratic model from a QUBO problem.\u001B[39;00m\n\u001B[0;32m   1440\u001B[0m \n\u001B[0;32m   1441\u001B[0m \u001B[38;5;124;03m    Args:\u001B[39;00m\n\u001B[1;32m   (...)\u001B[0m\n\u001B[0;32m   1452\u001B[0m \n\u001B[0;32m   1453\u001B[0m \u001B[38;5;124;03m    \"\"\"\u001B[39;00m\n\u001B[1;32m-> 1454\u001B[0m     \u001B[38;5;28;01mreturn\u001B[39;00m \u001B[38;5;28;43mcls\u001B[39;49m\u001B[43m(\u001B[49m\u001B[43m{\u001B[49m\u001B[43m}\u001B[49m\u001B[43m,\u001B[49m\u001B[43m \u001B[49m\u001B[43mQ\u001B[49m\u001B[43m,\u001B[49m\u001B[43m \u001B[49m\u001B[43moffset\u001B[49m\u001B[43m,\u001B[49m\u001B[43m \u001B[49m\u001B[43mVartype\u001B[49m\u001B[38;5;241;43m.\u001B[39;49m\u001B[43mBINARY\u001B[49m\u001B[43m)\u001B[49m\n",
      "File \u001B[1;32mP:\\Python\\Lib\\site-packages\\dimod\\binary\\binary_quadratic_model.py:204\u001B[0m, in \u001B[0;36mBinaryQuadraticModel.__init__\u001B[1;34m(self, offset, vartype, dtype, *args)\u001B[0m\n\u001B[0;32m    198\u001B[0m     \u001B[38;5;28;01mif\u001B[39;00m offset \u001B[38;5;129;01mis\u001B[39;00m \u001B[38;5;129;01mnot\u001B[39;00m \u001B[38;5;28;01mNone\u001B[39;00m:\n\u001B[0;32m    199\u001B[0m         \u001B[38;5;66;03m# we don't strictly need to fail in this case, we could instead\u001B[39;00m\n\u001B[0;32m    200\u001B[0m         \u001B[38;5;66;03m# add it, but I think this is closer to the normal python behavior\u001B[39;00m\n\u001B[0;32m    201\u001B[0m         \u001B[38;5;66;03m# of failing if an argument is provided twice\u001B[39;00m\n\u001B[0;32m    202\u001B[0m         \u001B[38;5;28;01mraise\u001B[39;00m \u001B[38;5;167;01mTypeError\u001B[39;00m(\u001B[38;5;124m\"\u001B[39m\u001B[38;5;124mBinaryQuadraticModel() got multiple values for \u001B[39m\u001B[38;5;124m'\u001B[39m\u001B[38;5;124moffset\u001B[39m\u001B[38;5;124m'\u001B[39m\u001B[38;5;124m\"\u001B[39m)\n\u001B[1;32m--> 204\u001B[0m     \u001B[38;5;28;43mself\u001B[39;49m\u001B[38;5;241;43m.\u001B[39;49m\u001B[43m_init_components\u001B[49m\u001B[43m(\u001B[49m\u001B[38;5;241;43m*\u001B[39;49m\u001B[43margs\u001B[49m\u001B[43m,\u001B[49m\u001B[43m \u001B[49m\u001B[43mdtype\u001B[49m\u001B[38;5;241;43m=\u001B[39;49m\u001B[43mdtype\u001B[49m\u001B[43m)\u001B[49m\n\u001B[0;32m    205\u001B[0m \u001B[38;5;28;01melse\u001B[39;00m:\n\u001B[0;32m    206\u001B[0m     msg \u001B[38;5;241m=\u001B[39m \u001B[38;5;124m\"\u001B[39m\u001B[38;5;124m__init__() takes 4 positional arguments but \u001B[39m\u001B[38;5;132;01m{}\u001B[39;00m\u001B[38;5;124m were given.\u001B[39m\u001B[38;5;124m\"\u001B[39m\n",
      "File \u001B[1;32mP:\\Python\\Lib\\site-packages\\dimod\\binary\\binary_quadratic_model.py:241\u001B[0m, in \u001B[0;36mBinaryQuadraticModel._init_components\u001B[1;34m(self, linear, quadratic, offset, vartype, dtype)\u001B[0m\n\u001B[0;32m    239\u001B[0m                 \u001B[38;5;28;01mraise\u001B[39;00m \u001B[38;5;167;01mRuntimeError\u001B[39;00m(\u001B[38;5;124mf\u001B[39m\u001B[38;5;124m\"\u001B[39m\u001B[38;5;124munexpected vartype: \u001B[39m\u001B[38;5;132;01m{\u001B[39;00mvartype\u001B[38;5;132;01m}\u001B[39;00m\u001B[38;5;124m\"\u001B[39m)\n\u001B[0;32m    240\u001B[0m         \u001B[38;5;28;01melse\u001B[39;00m:\n\u001B[1;32m--> 241\u001B[0m             \u001B[38;5;28;43mself\u001B[39;49m\u001B[38;5;241;43m.\u001B[39;49m\u001B[43madd_quadratic\u001B[49m\u001B[43m(\u001B[49m\u001B[43mu\u001B[49m\u001B[43m,\u001B[49m\u001B[43m \u001B[49m\u001B[43mv\u001B[49m\u001B[43m,\u001B[49m\u001B[43m \u001B[49m\u001B[43mbias\u001B[49m\u001B[43m)\u001B[49m\n\u001B[0;32m    243\u001B[0m \u001B[38;5;28;01melse\u001B[39;00m:\n\u001B[0;32m    244\u001B[0m     \u001B[38;5;28;01mif\u001B[39;00m \u001B[38;5;28mself\u001B[39m\u001B[38;5;241m.\u001B[39mdtype \u001B[38;5;241m==\u001B[39m np\u001B[38;5;241m.\u001B[39mdtype(\u001B[38;5;124m'\u001B[39m\u001B[38;5;124mO\u001B[39m\u001B[38;5;124m'\u001B[39m) \u001B[38;5;129;01mand\u001B[39;00m \u001B[38;5;129;01mnot\u001B[39;00m \u001B[38;5;28mhasattr\u001B[39m(quadratic, \u001B[38;5;124m'\u001B[39m\u001B[38;5;124mdtype\u001B[39m\u001B[38;5;124m'\u001B[39m):\n",
      "\u001B[1;31mKeyboardInterrupt\u001B[0m: "
     ]
    }
   ],
   "source": [
    "%%time\n",
    "bqm = BinaryQuadraticModel.from_qubo(Q)"
   ]
  },
  {
   "cell_type": "markdown",
   "id": "8fa1ef70",
   "metadata": {},
   "source": [
    "## Applying Constrains/Adjancencies to BQM"
   ]
  },
  {
   "cell_type": "code",
   "execution_count": 22,
   "id": "ad855979",
   "metadata": {
    "ExecuteTime": {
     "end_time": "2023-11-01T08:10:03.499824Z",
     "start_time": "2023-11-01T08:10:03.482644100Z"
    }
   },
   "outputs": [],
   "source": [
    "for i, (predecessor, target) in enumerate(allPossiblePairs):\n",
    "    for j, enzyme in enumerate(allPossibleEnzymes):\n",
    "        pairStr = f\"{enzyme.strip()}_{predecessor}_{target}\"\n",
    "        if adjacencyMatrix[i, j] == 1:\n",
    "            if (pairStr, pairStr) in Q:\n",
    "                bqm.set_linear(pairStr, Q[(pairStr, pairStr)])"
   ]
  },
  {
   "cell_type": "markdown",
   "id": "b353d296",
   "metadata": {},
   "source": [
    "## Compute using DIMOD [Simulated Annealing Sampler]"
   ]
  },
  {
   "cell_type": "code",
   "execution_count": 23,
   "id": "b89dbb96",
   "metadata": {
    "ExecuteTime": {
     "end_time": "2023-11-01T08:10:05.332758800Z",
     "start_time": "2023-11-01T08:10:03.498847Z"
    }
   },
   "outputs": [
    {
     "ename": "KeyboardInterrupt",
     "evalue": "",
     "output_type": "error",
     "traceback": [
      "\u001B[1;31m---------------------------------------------------------------------------\u001B[0m",
      "\u001B[1;31mKeyboardInterrupt\u001B[0m                         Traceback (most recent call last)",
      "File \u001B[1;32m<timed exec>:2\u001B[0m\n",
      "File \u001B[1;32mP:\\Python\\Lib\\site-packages\\dimod\\reference\\samplers\\simulated_annealing.py:107\u001B[0m, in \u001B[0;36mSimulatedAnnealingSampler.sample\u001B[1;34m(self, bqm, beta_range, num_reads, num_sweeps, **kwargs)\u001B[0m\n\u001B[0;32m    105\u001B[0m energies \u001B[38;5;241m=\u001B[39m []\n\u001B[0;32m    106\u001B[0m \u001B[38;5;28;01mfor\u001B[39;00m __ \u001B[38;5;129;01min\u001B[39;00m \u001B[38;5;28mrange\u001B[39m(num_reads):\n\u001B[1;32m--> 107\u001B[0m     sample, energy \u001B[38;5;241m=\u001B[39m \u001B[43mising_simulated_annealing\u001B[49m\u001B[43m(\u001B[49m\u001B[43mh\u001B[49m\u001B[43m,\u001B[49m\u001B[43m \u001B[49m\u001B[43mJ\u001B[49m\u001B[43m,\u001B[49m\u001B[43m \u001B[49m\u001B[43mbeta_range\u001B[49m\u001B[43m,\u001B[49m\u001B[43m \u001B[49m\u001B[43mnum_sweeps\u001B[49m\u001B[43m)\u001B[49m\n\u001B[0;32m    108\u001B[0m     samples\u001B[38;5;241m.\u001B[39mappend(sample)\n\u001B[0;32m    109\u001B[0m     energies\u001B[38;5;241m.\u001B[39mappend(energy)\n",
      "File \u001B[1;32mP:\\Python\\Lib\\site-packages\\dimod\\reference\\samplers\\simulated_annealing.py:191\u001B[0m, in \u001B[0;36mising_simulated_annealing\u001B[1;34m(h, J, beta_range, num_sweeps)\u001B[0m\n\u001B[0;32m    187\u001B[0m     adj[n1]\u001B[38;5;241m.\u001B[39madd(n0)\n\u001B[0;32m    189\u001B[0m \u001B[38;5;66;03m# we will use a vertex coloring for the graph and update the nodes by color. A quick\u001B[39;00m\n\u001B[0;32m    190\u001B[0m \u001B[38;5;66;03m# greedy coloring will be sufficient.\u001B[39;00m\n\u001B[1;32m--> 191\u001B[0m __, colors \u001B[38;5;241m=\u001B[39m \u001B[43mgreedy_coloring\u001B[49m\u001B[43m(\u001B[49m\u001B[43madj\u001B[49m\u001B[43m)\u001B[49m\n\u001B[0;32m    193\u001B[0m \u001B[38;5;66;03m# let's make our initial guess (randomly)\u001B[39;00m\n\u001B[0;32m    194\u001B[0m spins \u001B[38;5;241m=\u001B[39m {v: random\u001B[38;5;241m.\u001B[39mchoice((\u001B[38;5;241m-\u001B[39m\u001B[38;5;241m1\u001B[39m, \u001B[38;5;241m1\u001B[39m)) \u001B[38;5;28;01mfor\u001B[39;00m v \u001B[38;5;129;01min\u001B[39;00m h}\n",
      "File \u001B[1;32mP:\\Python\\Lib\\site-packages\\dimod\\reference\\samplers\\simulated_annealing.py:255\u001B[0m, in \u001B[0;36mgreedy_coloring\u001B[1;34m(adj)\u001B[0m\n\u001B[0;32m    253\u001B[0m coloring \u001B[38;5;241m=\u001B[39m {}\n\u001B[0;32m    254\u001B[0m colors \u001B[38;5;241m=\u001B[39m {}\n\u001B[1;32m--> 255\u001B[0m possible_colors \u001B[38;5;241m=\u001B[39m {n: \u001B[38;5;28mset\u001B[39m(\u001B[38;5;28mrange\u001B[39m(\u001B[38;5;28mlen\u001B[39m(adj))) \u001B[38;5;28;01mfor\u001B[39;00m n \u001B[38;5;129;01min\u001B[39;00m adj}\n\u001B[0;32m    256\u001B[0m \u001B[38;5;28;01mwhile\u001B[39;00m possible_colors:\n\u001B[0;32m    257\u001B[0m \n\u001B[0;32m    258\u001B[0m     \u001B[38;5;66;03m# get the n with the fewest possible colors\u001B[39;00m\n\u001B[0;32m    259\u001B[0m     n \u001B[38;5;241m=\u001B[39m \u001B[38;5;28mmin\u001B[39m(possible_colors, key\u001B[38;5;241m=\u001B[39m\u001B[38;5;28;01mlambda\u001B[39;00m n: \u001B[38;5;28mlen\u001B[39m(possible_colors[n]))\n",
      "\u001B[1;31mKeyboardInterrupt\u001B[0m: "
     ]
    }
   ],
   "source": [
    "%%time\n",
    "sampler = SimulatedAnnealingSampler()\n",
    "response = sampler.sample(bqm, num_reads=1)  # My CPU Couldn't handle more than 1 num_reads :\\\n",
    "bestSol = response.first.sample\n",
    "bestEng = response.first.energy\n",
    "#print(\"Best Solution:\", bestSol)\n",
    "#print(\"Energy:\", bestEng)"
   ]
  },
  {
   "cell_type": "markdown",
   "id": "1a769eb9",
   "metadata": {},
   "source": [
    "## - Compute using DYNEX"
   ]
  },
  {
   "cell_type": "code",
   "execution_count": 24,
   "id": "d0d6ec64",
   "metadata": {
    "ExecuteTime": {
     "end_time": "2023-11-01T08:10:05.340281300Z",
     "start_time": "2023-11-01T08:10:05.333735900Z"
    }
   },
   "outputs": [
    {
     "data": {
      "text/plain": "\"\\n%%time\\nmodel = dynex.BQM(bqm);\\nsampler = dynex.DynexSampler(model,  mainnet=True, description='AndreasRossos-Enzyme-TargetPrediction')\\nsampleset = sampler.sample(num_reads=10000, annealing_time = 1000, debugging=True);\\nbestSol = sampler.dimod_assignments.first.sample;\\n\""
     },
     "execution_count": 24,
     "metadata": {},
     "output_type": "execute_result"
    }
   ],
   "source": [
    "'''\n",
    "%%time\n",
    "model = dynex.BQM(bqm);\n",
    "sampler = dynex.DynexSampler(model,  mainnet=True, description='AndreasRossos-Enzyme-TargetPrediction')\n",
    "sampleset = sampler.sample(num_reads=10000, annealing_time = 1000, debugging=True);\n",
    "bestSol = sampler.dimod_assignments.first.sample;\n",
    "'''"
   ]
  },
  {
   "cell_type": "code",
   "execution_count": 25,
   "id": "47562a7c-a068-4534-974e-a67fee86bf48",
   "metadata": {
    "ExecuteTime": {
     "end_time": "2023-11-01T08:10:05.342259100Z",
     "start_time": "2023-11-01T08:10:05.338258900Z"
    }
   },
   "outputs": [],
   "source": [
    "#print('DYNEX RESULT:',bestSol)"
   ]
  },
  {
   "cell_type": "markdown",
   "id": "5b2e3a6f",
   "metadata": {},
   "source": [
    "# Loading Best Solution"
   ]
  },
  {
   "cell_type": "code",
   "execution_count": 26,
   "id": "bef5cea5",
   "metadata": {
    "ExecuteTime": {
     "end_time": "2023-11-01T08:10:05.408975800Z",
     "start_time": "2023-11-01T08:10:05.342259100Z"
    }
   },
   "outputs": [
    {
     "ename": "NameError",
     "evalue": "name 'bestSol' is not defined",
     "output_type": "error",
     "traceback": [
      "\u001B[1;31m---------------------------------------------------------------------------\u001B[0m",
      "\u001B[1;31mNameError\u001B[0m                                 Traceback (most recent call last)",
      "Cell \u001B[1;32mIn[26], line 1\u001B[0m\n\u001B[1;32m----> 1\u001B[0m optimalPairs \u001B[38;5;241m=\u001B[39m [pair \u001B[38;5;28;01mfor\u001B[39;00m pair, value \u001B[38;5;129;01min\u001B[39;00m \u001B[43mbestSol\u001B[49m\u001B[38;5;241m.\u001B[39mitems() \u001B[38;5;28;01mif\u001B[39;00m value \u001B[38;5;241m==\u001B[39m \u001B[38;5;241m1\u001B[39m]\n\u001B[0;32m      2\u001B[0m optimalTransformations \u001B[38;5;241m=\u001B[39m {}\n\u001B[0;32m      4\u001B[0m \u001B[38;5;28;01mfor\u001B[39;00m pair \u001B[38;5;129;01min\u001B[39;00m optimalPairs:\n",
      "\u001B[1;31mNameError\u001B[0m: name 'bestSol' is not defined"
     ]
    }
   ],
   "source": [
    "optimalPairs = [pair for pair, value in bestSol.items() if value == 1]\n",
    "optimalTransformations = {}\n",
    "\n",
    "for pair in optimalPairs:\n",
    "    _, predecessor, target = pair.split('_')\n",
    "    predQuery = df1.loc[df1['PubChem_CID'] == int(predecessor), 'SMILES']\n",
    "    targetQuery = df1.loc[df1['PubChem_CID'] == float(target), 'SMILES']\n",
    "    predecessorSmiles = predQuery.iloc[0] if not predQuery.empty else 'Not Found'\n",
    "    targetSmiles = targetQuery.iloc[0] if not targetQuery.empty else 'Not Found'\n",
    "    optimalTransformations[predecessorSmiles] = targetSmiles\n",
    "\n",
    "    #print(f\"Optimal transformation: {predecessorSmiles} -> {targetSmiles}\")"
   ]
  },
  {
   "cell_type": "markdown",
   "id": "3e2c6156",
   "metadata": {},
   "source": [
    "## - Visualization"
   ]
  },
  {
   "cell_type": "code",
   "execution_count": null,
   "id": "592bd665",
   "metadata": {
    "ExecuteTime": {
     "start_time": "2023-11-01T08:10:05.386501900Z"
    }
   },
   "outputs": [],
   "source": [
    "def Visualize(predecessorSmiles):\n",
    "    targetSmiles = optimalTransformations.get(predecessorSmiles, \"Not found\")\n",
    "    if targetSmiles == \"Not found\":\n",
    "        print(\"Predecessor SMILES not found in the optimal transformations.\")\n",
    "        return\n",
    "    # Drawing predecessor molecule\n",
    "    predMol = Chem.MolFromSmiles(predecessorSmiles)\n",
    "    predImg = Draw.MolToMPL(predMol, size=(300, 300), kekulize=True)\n",
    "    plt.title(\"Predecessor Molecule\")\n",
    "    plt.axis(\"off\")\n",
    "    plt.show()\n",
    "    \n",
    "    # Drawing target molecule\n",
    "    targetMol = Chem.MolFromSmiles(targetSmiles)\n",
    "    targetImg = Draw.MolToMPL(targetMol, size=(300, 300), kekulize=True)\n",
    "    plt.title(\"Predicted Target Molecule\")\n",
    "    plt.axis(\"off\")\n",
    "    plt.show()\n",
    "\n",
    "predecessorSmiles = \"C[C@]12CCC(=O)C=C1CC[C@H]1[C@@H]3CC[C@@H]([C@@]3(C)CC[C@H]21)O\" # EXAMPLE \n",
    "Visualize(predecessorSmiles)"
   ]
  },
  {
   "cell_type": "code",
   "execution_count": null,
   "id": "21e8d144",
   "metadata": {
    "ExecuteTime": {
     "start_time": "2023-11-01T08:10:05.388455900Z"
    }
   },
   "outputs": [],
   "source": []
  }
 ],
 "metadata": {
  "kernelspec": {
   "display_name": "Python 3 (ipykernel)",
   "language": "python",
   "name": "python3"
  },
  "language_info": {
   "codemirror_mode": {
    "name": "ipython",
    "version": 3
   },
   "file_extension": ".py",
   "mimetype": "text/x-python",
   "name": "python",
   "nbconvert_exporter": "python",
   "pygments_lexer": "ipython3",
   "version": "3.9.17"
  }
 },
 "nbformat": 4,
 "nbformat_minor": 5
}
