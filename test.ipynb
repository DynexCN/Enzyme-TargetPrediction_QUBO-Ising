{
 "cells": [
  {
   "cell_type": "code",
   "execution_count": 3,
   "id": "initial_id",
   "metadata": {
    "collapsed": true,
    "ExecuteTime": {
     "end_time": "2023-11-01T09:12:26.175590400Z",
     "start_time": "2023-11-01T09:12:04.473267200Z"
    }
   },
   "outputs": [
    {
     "name": "stdout",
     "output_type": "stream",
     "text": [
      "[DYNEX] TEST: dimod BQM construction...\n",
      "[DYNEX] PASSED\n",
      "[DYNEX] TEST: Dynex Sampler object...\n",
      "[DYNEX] PASSED\n",
      "[DYNEX] TEST: uploading computing file...\n"
     ]
    },
    {
     "data": {
      "text/plain": "file upload progress:   0%|          | 0.00/65.0 [00:00<?, ?B/s]",
      "application/vnd.jupyter.widget-view+json": {
       "version_major": 2,
       "version_minor": 0,
       "model_id": "9275b7672d634effb04178c02c00f24a"
      }
     },
     "metadata": {},
     "output_type": "display_data"
    },
    {
     "name": "stdout",
     "output_type": "stream",
     "text": [
      "[DYNEX] PASSED\n",
      "[DYNEX] TEST: submitting sample file...\n"
     ]
    },
    {
     "data": {
      "text/plain": "file upload progress:   0%|          | 0.00/65.0 [00:00<?, ?B/s]",
      "application/vnd.jupyter.widget-view+json": {
       "version_major": 2,
       "version_minor": 0,
       "model_id": "4d8d4df4e1c246afb3d2b725dd0042c8"
      }
     },
     "metadata": {},
     "output_type": "display_data"
    },
    {
     "name": "stdout",
     "output_type": "stream",
     "text": [
      "[DYNEX] PASSED\n",
      "[DYNEX] TEST: retrieving samples...\n",
      "[DYNEX] PASSED\n",
      "[DYNEX] TEST: worker access to computing files\n",
      "[DYNEX] PASSED\n",
      "[DYNEX] TEST RESULT: ALL TESTS PASSED\n"
     ]
    }
   ],
   "source": [
    "import dynex\n",
    "dynex.test()"
   ]
  },
  {
   "cell_type": "code",
   "execution_count": 1,
   "outputs": [
    {
     "name": "stdout",
     "output_type": "stream",
     "text": [
      "ACCOUNT: njyqnacl@vip.qq.com\n",
      "API SUCCESSFULLY CONNECTED TO DYNEX\n",
      "-----------------------------------\n",
      "ACCOUNT LIMITS:\n",
      "MAXIMUM NUM_READS: 100,000\n",
      "MAXIMUM ANNEALING_TIME: 10,000\n",
      "MAXIMUM JOB DURATION: 60 MINUTES\n",
      "\n",
      "USAGE:\n",
      "TOTAL USAGE: 42,000,000 / 1,000,000,000 ( 4.2 %) NUM_READS x ANNEALING_TIME\n"
     ]
    }
   ],
   "source": [
    "import dynex\n",
    "dynex.account_status()"
   ],
   "metadata": {
    "collapsed": false,
    "ExecuteTime": {
     "end_time": "2023-11-02T14:12:49.723510300Z",
     "start_time": "2023-11-02T14:12:47.744297800Z"
    }
   },
   "id": "8f078574881006eb"
  },
  {
   "cell_type": "markdown",
   "source": [],
   "metadata": {
    "collapsed": false
   },
   "id": "790ef4c0f765fbfe"
  }
 ],
 "metadata": {
  "kernelspec": {
   "display_name": "Python 3",
   "language": "python",
   "name": "python3"
  },
  "language_info": {
   "codemirror_mode": {
    "name": "ipython",
    "version": 2
   },
   "file_extension": ".py",
   "mimetype": "text/x-python",
   "name": "python",
   "nbconvert_exporter": "python",
   "pygments_lexer": "ipython2",
   "version": "2.7.6"
  }
 },
 "nbformat": 4,
 "nbformat_minor": 5
}
